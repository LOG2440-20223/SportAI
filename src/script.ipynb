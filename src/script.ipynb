{
 "cells": [
  {
   "cell_type": "code",
   "execution_count": 5,
   "id": "initial_id",
   "metadata": {
    "collapsed": true,
    "ExecuteTime": {
     "end_time": "2024-06-22T02:01:41.384380600Z",
     "start_time": "2024-06-22T02:01:39.759870300Z"
    }
   },
   "outputs": [
    {
     "name": "stdout",
     "output_type": "stream",
     "text": [
      "['Goals' 'Ball Possession' 'Total Attempts' 'Attempts on target'\n",
      " 'Attempts off target' 'Attempts against woodwork' 'Attempts Accuracy'\n",
      " 'Corners' 'Offsides' 'Saves' 'Tackles won' 'Clearances' 'Recovered balls'\n",
      " 'Fouls committed' 'Yellow cards' 'Red cards' 'Passes completed'\n",
      " 'Passes accuracy' 'Distance covered (m)'\n",
      " 'Distance covered in possession (m)' 'Top Speed (Km/h)' 'Own-goals'\n",
      " 'Goals scored' 'Goals conceded' 'Own-goals for'\n",
      " 'Goals scored by right foot' 'Goals scored by left foot'\n",
      " 'Goals scored by head' 'Goals scored by backheel'\n",
      " 'Goals scored by other part of body' 'Goals scored in open play'\n",
      " 'Goals scored on direct free-kcik' 'Goals scored on indirect free-kcik'\n",
      " 'Goals scored on penalty ' 'Goals on corner '\n",
      " 'Goals scored in penalty area' 'Goals scored outside penalty area'\n",
      " 'Goals on penalty phase' 'Goals in open play from centre'\n",
      " 'Goals in open play from left' 'Goals in open play from right'\n",
      " 'Attempts blocked' 'Attempts on bar' 'Attempts on post'\n",
      " 'Woodwork (after deflection)' 'Attempts on direct free kick'\n",
      " 'Attempts on indirect free kick' 'Attempts from corner'\n",
      " 'Attempts on target in penalty area'\n",
      " 'Attempts on target outside penalty area'\n",
      " 'Attempts off target in penalty area'\n",
      " 'Attempts off target outside penalty area'\n",
      " 'Attempts in open play from centre' 'Attempts in open play from left'\n",
      " 'Attempts in open play from right' 'Free kicks on goal '\n",
      " 'Instance of possession ' 'Ball not in play' 'Crosses attempted'\n",
      " 'Crosses short' 'Crosses medium' 'Crosses long' 'Crosses completed'\n",
      " 'Crosses completed short' 'Crosses completed medium'\n",
      " 'Crosses completed long' 'Corners short' 'Corners medium' 'Corners long'\n",
      " 'Corners completed' 'Corners completed short' 'Corners completed medium'\n",
      " 'Corners completed long' 'Dribbling' 'Passes attempted'\n",
      " 'Passes attempted short' 'Passes attempted medium'\n",
      " 'Passes attempted long' 'Passes completed short'\n",
      " 'Passes completed medium' 'Passes completed long' 'Passes received'\n",
      " 'Passes received short' 'Passes received medium' 'Passes received long'\n",
      " 'Passes accuracy short' 'Passes accuracy medium' 'Passes accuracy long'\n",
      " 'Passes completed forward' 'Passes completed backward'\n",
      " 'Passes completed left' 'Passes completed right'\n",
      " 'Passes per instance of possession ' 'Delivery into attacking third'\n",
      " 'Delivery into key play area' 'Delivery into penalty area'\n",
      " 'Delivery into goal area' 'Solo run into attacking third'\n",
      " 'Solo run into key play area' 'Solo run into penalty area'\n",
      " 'Total Attacks' 'Attacks from centre' 'Attacks from right'\n",
      " 'Attacks from left' 'Organized attack' 'Counter attack'\n",
      " 'Clearances successful' 'Clearances unsuccesful' 'Tackles' 'Tackles lost'\n",
      " 'Tackles performed gaining the ball'\n",
      " 'Tackles performed not gaining the ball' 'Tackles suffered'\n",
      " 'Tackles suffered losing the ball' 'Tackles suffered not losing the ball'\n",
      " 'Lost balls' 'Lost balls own half' 'Lost balls opposite half'\n",
      " 'Change of possession' 'Blocks' 'Throw-in'\n",
      " 'Goals conceded from open play ' 'Goals conceded from set pieces'\n",
      " 'Goals conceded in penalty area' 'Goals conceded outside penalty area'\n",
      " 'Saves in open play' 'Saves on set pieces' 'Saves on direct free kick'\n",
      " 'Saves on indirect free kick' 'Saves on penalty' 'Saves on corner'\n",
      " 'Saves in open play from centre' 'Saves in open play from left'\n",
      " 'Saves in open play from right' 'Punches' 'High Claims' 'Low Claims'\n",
      " 'Goalkeeper kicks attempted' 'Goalkeeper kicks short'\n",
      " 'Goalkeeper kicks medium' 'Goalkeeper kicks long'\n",
      " 'Goalkeeper kicks completed' 'Goalkeeper kicks completed short'\n",
      " 'Goalkeeper kicks completed medium' 'Goalkeeper kicks completed long'\n",
      " 'Goalkeeper kicks completed %' 'Played Time' 'Fouls suffered'\n",
      " 'Fouls committed own half' 'Fouls committed opposite half'\n",
      " 'Fouls suffered own half' 'Fouls suffered opposite half' 'Penalty fouls'\n",
      " 'Handball' 'Simulation' 'Offsides suffered'\n",
      " 'Distance covered in low activity (m)'\n",
      " 'Distance covered in medium activity (m)'\n",
      " 'Distance covered in high activity (m)'\n",
      " 'Distance covered in very high activity (m)'\n",
      " 'Distance covered in low activity (%)'\n",
      " 'Distance covered in medium activity (%)'\n",
      " 'Distance covered in high activity (%)'\n",
      " 'Distance covered in very high activity (%)' 'Average distance covered'\n",
      " 'Average distance covered in low activity '\n",
      " 'Average distance covered in medium activity '\n",
      " 'Average distance covered in high activity '\n",
      " 'Average distance covered in very high activity covered'\n",
      " 'Time spent in low activity (%)' 'Time spent in medium activity (%)'\n",
      " 'Time spent in high activity (%)' 'Time spent in very high activity (%)'\n",
      " 'Time spent in low activity' 'Time spent in medium activity'\n",
      " 'Time spent in high activity' 'Time spent in very high activity'\n",
      " 'Sprints' 'Assists' 'Distance covered (Km)'\n",
      " 'Distance covered in possession (Km)' 'Matches played'\n",
      " 'Goals on set pieces' 'Attempts blocked outside penalty area'\n",
      " 'Distance covered not in possession (m)'\n",
      " 'Distance covered not in possession (Km)' 'Attempts set pieces'\n",
      " 'Attempts in open play' 'Attempts on throw in'\n",
      " 'Saves on attempts inside penalty area'\n",
      " 'Saves on attempts outside penalty area' 'Team average speed'\n",
      " 'Big Chances']\n"
     ]
    }
   ],
   "source": [
    "import pandas as pd\n",
    "\n",
    "file_path = './static/EURO_2020_DATA.xlsx'\n",
    "match_stats = pd.read_excel(file_path, sheet_name='Match Stats')\n",
    "print(match_stats['StatsName'].unique())\n"
   ]
  },
  {
   "cell_type": "code",
   "outputs": [],
   "source": [],
   "metadata": {
    "collapsed": false
   },
   "id": "cedd21772bcee6ed"
  }
 ],
 "metadata": {
  "kernelspec": {
   "display_name": "Python 3",
   "language": "python",
   "name": "python3"
  },
  "language_info": {
   "codemirror_mode": {
    "name": "ipython",
    "version": 2
   },
   "file_extension": ".py",
   "mimetype": "text/x-python",
   "name": "python",
   "nbconvert_exporter": "python",
   "pygments_lexer": "ipython2",
   "version": "2.7.6"
  }
 },
 "nbformat": 4,
 "nbformat_minor": 5
}
